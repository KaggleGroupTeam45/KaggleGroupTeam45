{
 "cells": [
  {
   "cell_type": "code",
   "execution_count": 1,
   "metadata": {},
   "outputs": [
    {
     "name": "stderr",
     "output_type": "stream",
     "text": [
      "/Users/BarryFitzpatrick/anaconda3/lib/python3.7/site-packages/lightgbm/__init__.py:48: UserWarning: Starting from version 2.2.1, the library file in distribution wheels for macOS is built by the Apple Clang (Xcode_8.3.3) compiler.\n",
      "This means that in case of installing LightGBM from PyPI via the ``pip install lightgbm`` command, you don't need to install the gcc compiler anymore.\n",
      "Instead of that, you need to install the OpenMP library, which is required for running LightGBM on the system with the Apple Clang compiler.\n",
      "You can install the OpenMP library by the following command: ``brew install libomp``.\n",
      "  \"You can install the OpenMP library by the following command: ``brew install libomp``.\", UserWarning)\n"
     ]
    }
   ],
   "source": [
    "import pandas as pd\n",
    "import numpy as np\n",
    "from sklearn.preprocessing import LabelEncoder\n",
    "from sklearn.model_selection import train_test_split\n",
    "from collections import Counter\n",
    "import lightgbm as lgb\n",
    "import seaborn as sns  "
   ]
  },
  {
   "cell_type": "code",
   "execution_count": 2,
   "metadata": {},
   "outputs": [
    {
     "name": "stderr",
     "output_type": "stream",
     "text": [
      "/Users/BarryFitzpatrick/anaconda3/lib/python3.7/site-packages/IPython/core/interactiveshell.py:2785: DtypeWarning: Columns (2,4) have mixed types. Specify dtype option on import or set low_memory=False.\n",
      "  interactivity=interactivity, compiler=compiler, result=result)\n",
      "/Users/BarryFitzpatrick/anaconda3/lib/python3.7/site-packages/IPython/core/interactiveshell.py:2785: DtypeWarning: Columns (4) have mixed types. Specify dtype option on import or set low_memory=False.\n",
      "  interactivity=interactivity, compiler=compiler, result=result)\n"
     ]
    },
    {
     "data": {
      "text/plain": [
       "(1048574, 17)"
      ]
     },
     "execution_count": 2,
     "metadata": {},
     "output_type": "execute_result"
    }
   ],
   "source": [
    "train = pd.read_csv(\"/Users/BarryFitzpatrick/Machine Learning/Kaggle Group/tcd-ml-comp-201920-income-pred-group/tcd-ml-1920-group-income-train.csv\")\n",
    "test = pd.read_csv(\"/Users/BarryFitzpatrick/Machine Learning/Kaggle Group/tcd-ml-comp-201920-income-pred-group/tcd-ml-1920-group-income-test.csv\")\n",
    "\n",
    "train = train.sample(frac = 1)\n",
    "train.shape"
   ]
  },
  {
   "cell_type": "code",
   "execution_count": 3,
   "metadata": {},
   "outputs": [
    {
     "data": {
      "text/html": [
       "<div>\n",
       "<style scoped>\n",
       "    .dataframe tbody tr th:only-of-type {\n",
       "        vertical-align: middle;\n",
       "    }\n",
       "\n",
       "    .dataframe tbody tr th {\n",
       "        vertical-align: top;\n",
       "    }\n",
       "\n",
       "    .dataframe thead th {\n",
       "        text-align: right;\n",
       "    }\n",
       "</style>\n",
       "<table border=\"1\" class=\"dataframe\">\n",
       "  <thead>\n",
       "    <tr style=\"text-align: right;\">\n",
       "      <th></th>\n",
       "      <th>缺失百分比</th>\n",
       "    </tr>\n",
       "  </thead>\n",
       "  <tbody>\n",
       "    <tr>\n",
       "      <th>University Degree</th>\n",
       "      <td>7.686630</td>\n",
       "    </tr>\n",
       "    <tr>\n",
       "      <th>Gender</th>\n",
       "      <td>7.069315</td>\n",
       "    </tr>\n",
       "    <tr>\n",
       "      <th>Hair Color</th>\n",
       "      <td>6.695856</td>\n",
       "    </tr>\n",
       "    <tr>\n",
       "      <th>Satisfation with employer</th>\n",
       "      <td>3.632266</td>\n",
       "    </tr>\n",
       "    <tr>\n",
       "      <th>Year of Record</th>\n",
       "      <td>0.382710</td>\n",
       "    </tr>\n",
       "    <tr>\n",
       "      <th>Profession</th>\n",
       "      <td>0.272084</td>\n",
       "    </tr>\n",
       "  </tbody>\n",
       "</table>\n",
       "</div>"
      ],
      "text/plain": [
       "                              缺失百分比\n",
       "University Degree          7.686630\n",
       "Gender                     7.069315\n",
       "Hair Color                 6.695856\n",
       "Satisfation with employer  3.632266\n",
       "Year of Record             0.382710\n",
       "Profession                 0.272084"
      ]
     },
     "execution_count": 3,
     "metadata": {},
     "output_type": "execute_result"
    }
   ],
   "source": [
    "train_missing = (train.isnull().sum()/len(train))*100\n",
    "train_missing = train_missing.drop(train_missing[train_missing==0].index).sort_values(ascending=False)\n",
    "miss_data = pd.DataFrame({'缺失百分比':train_missing})\n",
    "miss_data"
   ]
  },
  {
   "cell_type": "code",
   "execution_count": 4,
   "metadata": {},
   "outputs": [
    {
     "data": {
      "text/html": [
       "<div>\n",
       "<style scoped>\n",
       "    .dataframe tbody tr th:only-of-type {\n",
       "        vertical-align: middle;\n",
       "    }\n",
       "\n",
       "    .dataframe tbody tr th {\n",
       "        vertical-align: top;\n",
       "    }\n",
       "\n",
       "    .dataframe thead th {\n",
       "        text-align: right;\n",
       "    }\n",
       "</style>\n",
       "<table border=\"1\" class=\"dataframe\">\n",
       "  <thead>\n",
       "    <tr style=\"text-align: right;\">\n",
       "      <th></th>\n",
       "      <th>Instance</th>\n",
       "      <th>Year of Record</th>\n",
       "      <th>Housing Situation</th>\n",
       "      <th>Crime Level in the City of Employement</th>\n",
       "      <th>Work Experience in Current Job [years]</th>\n",
       "      <th>Satisfation with employer</th>\n",
       "      <th>Gender</th>\n",
       "      <th>Age</th>\n",
       "      <th>Country</th>\n",
       "      <th>Size of City</th>\n",
       "      <th>Profession</th>\n",
       "      <th>University Degree</th>\n",
       "      <th>Wears Glasses</th>\n",
       "      <th>Hair Color</th>\n",
       "      <th>Body Height [cm]</th>\n",
       "      <th>Yearly Income in addition to Salary (e.g. Rental Income)</th>\n",
       "      <th>Total Yearly Income [EUR]</th>\n",
       "    </tr>\n",
       "  </thead>\n",
       "  <tbody>\n",
       "    <tr>\n",
       "      <th>295732</th>\n",
       "      <td>295733</td>\n",
       "      <td>1963.0</td>\n",
       "      <td>Castle</td>\n",
       "      <td>159</td>\n",
       "      <td>16</td>\n",
       "      <td>Somewhat Happy</td>\n",
       "      <td>other</td>\n",
       "      <td>39</td>\n",
       "      <td>Honduras</td>\n",
       "      <td>1953901</td>\n",
       "      <td>personal care and service worker</td>\n",
       "      <td>Bachelor</td>\n",
       "      <td>1</td>\n",
       "      <td>Red</td>\n",
       "      <td>160</td>\n",
       "      <td>0 EUR</td>\n",
       "      <td>6752.25</td>\n",
       "    </tr>\n",
       "    <tr>\n",
       "      <th>884146</th>\n",
       "      <td>827282</td>\n",
       "      <td>2007.0</td>\n",
       "      <td>Large Apartment</td>\n",
       "      <td>13</td>\n",
       "      <td>10</td>\n",
       "      <td>Somewhat Happy</td>\n",
       "      <td>female</td>\n",
       "      <td>22</td>\n",
       "      <td>Austria</td>\n",
       "      <td>2446593</td>\n",
       "      <td>liaison</td>\n",
       "      <td>Bachelor</td>\n",
       "      <td>0</td>\n",
       "      <td>Brown</td>\n",
       "      <td>160</td>\n",
       "      <td>0 EUR</td>\n",
       "      <td>119814.66</td>\n",
       "    </tr>\n",
       "    <tr>\n",
       "      <th>63516</th>\n",
       "      <td>63517</td>\n",
       "      <td>1945.0</td>\n",
       "      <td>0</td>\n",
       "      <td>109</td>\n",
       "      <td>13</td>\n",
       "      <td>Average</td>\n",
       "      <td>male</td>\n",
       "      <td>27</td>\n",
       "      <td>Congo</td>\n",
       "      <td>2770131</td>\n",
       "      <td>program assistant</td>\n",
       "      <td>No</td>\n",
       "      <td>1</td>\n",
       "      <td>Black</td>\n",
       "      <td>181</td>\n",
       "      <td>0 EUR</td>\n",
       "      <td>2200.84</td>\n",
       "    </tr>\n",
       "    <tr>\n",
       "      <th>311326</th>\n",
       "      <td>311327</td>\n",
       "      <td>1965.0</td>\n",
       "      <td>Castle</td>\n",
       "      <td>81</td>\n",
       "      <td>16</td>\n",
       "      <td>Average</td>\n",
       "      <td>male</td>\n",
       "      <td>33</td>\n",
       "      <td>El Salvador</td>\n",
       "      <td>475374</td>\n",
       "      <td>risk management</td>\n",
       "      <td>Master</td>\n",
       "      <td>1</td>\n",
       "      <td>Blond</td>\n",
       "      <td>197</td>\n",
       "      <td>0 EUR</td>\n",
       "      <td>6062.70</td>\n",
       "    </tr>\n",
       "    <tr>\n",
       "      <th>618417</th>\n",
       "      <td>561573</td>\n",
       "      <td>1985.0</td>\n",
       "      <td>Medium House</td>\n",
       "      <td>16</td>\n",
       "      <td>18</td>\n",
       "      <td>Happy</td>\n",
       "      <td>other</td>\n",
       "      <td>44</td>\n",
       "      <td>Kuwait</td>\n",
       "      <td>28331</td>\n",
       "      <td>naval architect</td>\n",
       "      <td>No</td>\n",
       "      <td>1</td>\n",
       "      <td>Black</td>\n",
       "      <td>198</td>\n",
       "      <td>0 EUR</td>\n",
       "      <td>37415.91</td>\n",
       "    </tr>\n",
       "  </tbody>\n",
       "</table>\n",
       "</div>"
      ],
      "text/plain": [
       "        Instance  Year of Record Housing Situation  \\\n",
       "295732    295733          1963.0            Castle   \n",
       "884146    827282          2007.0   Large Apartment   \n",
       "63516      63517          1945.0                 0   \n",
       "311326    311327          1965.0            Castle   \n",
       "618417    561573          1985.0      Medium House   \n",
       "\n",
       "        Crime Level in the City of Employement  \\\n",
       "295732                                     159   \n",
       "884146                                      13   \n",
       "63516                                      109   \n",
       "311326                                      81   \n",
       "618417                                      16   \n",
       "\n",
       "       Work Experience in Current Job [years] Satisfation with employer  \\\n",
       "295732                                     16            Somewhat Happy   \n",
       "884146                                     10            Somewhat Happy   \n",
       "63516                                      13                   Average   \n",
       "311326                                     16                   Average   \n",
       "618417                                     18                     Happy   \n",
       "\n",
       "        Gender  Age      Country  Size of City  \\\n",
       "295732   other   39     Honduras       1953901   \n",
       "884146  female   22      Austria       2446593   \n",
       "63516     male   27        Congo       2770131   \n",
       "311326    male   33  El Salvador        475374   \n",
       "618417   other   44       Kuwait         28331   \n",
       "\n",
       "                              Profession University Degree  Wears Glasses  \\\n",
       "295732  personal care and service worker          Bachelor              1   \n",
       "884146                           liaison          Bachelor              0   \n",
       "63516                  program assistant                No              1   \n",
       "311326                   risk management            Master              1   \n",
       "618417                   naval architect                No              1   \n",
       "\n",
       "       Hair Color  Body Height [cm]  \\\n",
       "295732        Red               160   \n",
       "884146      Brown               160   \n",
       "63516       Black               181   \n",
       "311326      Blond               197   \n",
       "618417      Black               198   \n",
       "\n",
       "       Yearly Income in addition to Salary (e.g. Rental Income)  \\\n",
       "295732                                              0 EUR         \n",
       "884146                                              0 EUR         \n",
       "63516                                               0 EUR         \n",
       "311326                                              0 EUR         \n",
       "618417                                              0 EUR         \n",
       "\n",
       "        Total Yearly Income [EUR]  \n",
       "295732                    6752.25  \n",
       "884146                  119814.66  \n",
       "63516                     2200.84  \n",
       "311326                    6062.70  \n",
       "618417                   37415.91  "
      ]
     },
     "execution_count": 4,
     "metadata": {},
     "output_type": "execute_result"
    }
   ],
   "source": [
    "train.head()"
   ]
  },
  {
   "cell_type": "code",
   "execution_count": null,
   "metadata": {},
   "outputs": [],
   "source": []
  },
  {
   "cell_type": "code",
   "execution_count": 5,
   "metadata": {},
   "outputs": [
    {
     "data": {
      "text/plain": [
       "(1418012, 17)"
      ]
     },
     "execution_count": 5,
     "metadata": {},
     "output_type": "execute_result"
    }
   ],
   "source": [
    "data = pd.concat([train,test],ignore_index=True)\n",
    "\n",
    "data['University Degree']=data['University Degree'].fillna('Bachelor')\n",
    "\n",
    "data['Gender']=data['Gender'].replace('m','male')\n",
    "data['Gender']=data['Gender'].replace('f','female')\n",
    "data['Gender']=data['Gender'].replace('unknown','other')\n",
    "data['Gender']=data['Gender'].fillna('female')\n",
    "\n",
    "#data['Housing Situation']=data['Housing Situation'].replace('nA','0')\n",
    "data['Housing Situation']=np.where(data['Housing Situation']=='0', 'nA', data['Housing Situation'])\n",
    "data['Housing Situation']=np.where(data['Housing Situation']==0, 'nA', data['Housing Situation'])\n",
    "data['Hair Color']=data['Hair Color'].fillna(method='bfill')\n",
    "\n",
    "data['Satisfation with employer']=data['Satisfation with employer'].fillna('Average')\n",
    "\n",
    "data.fillna(value={'Year of Record':data['Year of Record'].mean()}, inplace=True)\n",
    "\n",
    "data['Profession']=data['Profession'].fillna(method='bfill')\n",
    "\n",
    "data['Country']=data['Country'].fillna(method='bfill')\n",
    "\n",
    "data.shape"
   ]
  },
  {
   "cell_type": "code",
   "execution_count": 6,
   "metadata": {},
   "outputs": [],
   "source": [
    "#构造等级特征\n",
    "data['Satisfation with employer'] = data['Satisfation with employer'].map \\\n",
    "     ({'Average':2, 'Happy':4, 'Somewhat Happy':3, 'Unhappy':1})"
   ]
  },
  {
   "cell_type": "code",
   "execution_count": null,
   "metadata": {},
   "outputs": [],
   "source": [
    "data.isnull().any()"
   ]
  },
  {
   "cell_type": "code",
   "execution_count": 7,
   "metadata": {},
   "outputs": [],
   "source": [
    "#对于每个country和profession特征，用其特征值下收入均值来替换\n",
    "country_income = dict(train.groupby('Country').mean()['Total Yearly Income [EUR]']/10000)\n",
    "data.Country = data.Country.map(country_income)\n",
    "data.Country = data.Country.fillna(data.Country.mean())\n",
    "country_income = dict(train.groupby('Profession').mean()['Total Yearly Income [EUR]']/10000)\n",
    "data.Profession = data.Profession.map(country_income)\n",
    "country_income = dict(train.groupby('Profession').mean()['Total Yearly Income [EUR]']/10000)\n",
    "data.Profession = data.Profession.map(country_income)\n",
    "#前面的254287数据用来构造均值特征\n",
    "sp = 254287"
   ]
  },
  {
   "cell_type": "code",
   "execution_count": 8,
   "metadata": {},
   "outputs": [],
   "source": [
    "#转换成数值\n",
    "data.iloc[:,-2] = data.iloc[:,-2].map(lambda x: float(x[:-3]))"
   ]
  },
  {
   "cell_type": "code",
   "execution_count": 9,
   "metadata": {},
   "outputs": [],
   "source": [
    "data['BigCity'] = np.where(data['Size of City']>7335190, 1, 0)\n",
    "data['SmallCity'] = np.where(data['Size of City']<7335190, 1, 0)\n",
    "#data = data.drop(columns=[\"Size of City\"])"
   ]
  },
  {
   "cell_type": "code",
   "execution_count": null,
   "metadata": {},
   "outputs": [],
   "source": [
    "#data = data.drop(columns=[\"Wears Glasses\"])"
   ]
  },
  {
   "cell_type": "code",
   "execution_count": null,
   "metadata": {},
   "outputs": [],
   "source": [
    "#data = data.drop(columns=[\"Hair Color\"])"
   ]
  },
  {
   "cell_type": "code",
   "execution_count": null,
   "metadata": {},
   "outputs": [],
   "source": [
    "data"
   ]
  },
  {
   "cell_type": "code",
   "execution_count": null,
   "metadata": {},
   "outputs": [],
   "source": [
    "sns.boxplot(x=data['Wears Glasses'], y=data[\"Total Yearly Income [EUR]\"], data=data, palette=\"Set1\")"
   ]
  },
  {
   "cell_type": "code",
   "execution_count": 10,
   "metadata": {},
   "outputs": [],
   "source": [
    "data['Crime Level in the City of Employement']=data['Crime Level in the City of Employement'].replace(0,data['Crime Level in the City of Employement'].mean())\n"
   ]
  },
  {
   "cell_type": "code",
   "execution_count": null,
   "metadata": {},
   "outputs": [],
   "source": [
    "sns.boxplot(x=data['BigCity'], y=data[\"Total Yearly Income [EUR]\"], data=data, palette=\"Set1\")\n"
   ]
  },
  {
   "cell_type": "code",
   "execution_count": null,
   "metadata": {},
   "outputs": [],
   "source": [
    "# Remove outliers in Size of City\n",
    "#indexBigCityOutliers = data[ (data[\"BigCity\"] == 1)  & (data[\"Total Yearly Income [EUR]\"] > 1500000) ].index\n",
    "#indexBigCityOutliers"
   ]
  },
  {
   "cell_type": "code",
   "execution_count": null,
   "metadata": {},
   "outputs": [],
   "source": [
    "#data = data.drop(indexBigCityOutliers)"
   ]
  },
  {
   "cell_type": "code",
   "execution_count": null,
   "metadata": {},
   "outputs": [],
   "source": [
    "data['Housing Situation'].value_counts()"
   ]
  },
  {
   "cell_type": "code",
   "execution_count": null,
   "metadata": {},
   "outputs": [],
   "source": [
    "# Have changed 0's and '0' to nA\n",
    "sns.boxplot(x=data['Housing Situation'], y=data[\"Total Yearly Income [EUR]\"], data=data, palette=\"Set1\")\n"
   ]
  },
  {
   "cell_type": "code",
   "execution_count": null,
   "metadata": {},
   "outputs": [],
   "source": [
    "sns.boxplot(x=data['Hair Color'], y=data[\"Total Yearly Income [EUR]\"], data=data, palette=\"Set1\")\n"
   ]
  },
  {
   "cell_type": "code",
   "execution_count": null,
   "metadata": {},
   "outputs": [],
   "source": [
    "sns.boxplot(x=data['Work Experience in Current Job [years]'], y=data[\"Total Yearly Income [EUR]\"], data=data, palette=\"Set1\")\n"
   ]
  },
  {
   "cell_type": "code",
   "execution_count": null,
   "metadata": {},
   "outputs": [],
   "source": [
    "sns.boxplot(x=data['University Degree'], y=data[\"Total Yearly Income [EUR]\"], data=data, palette=\"Set1\")\n"
   ]
  },
  {
   "cell_type": "code",
   "execution_count": null,
   "metadata": {},
   "outputs": [],
   "source": [
    "sns.boxplot(x=data['Body Height [cm]'], y=data[\"Total Yearly Income [EUR]\"], data=data, palette=\"Set1\")\n",
    "\n"
   ]
  },
  {
   "cell_type": "code",
   "execution_count": null,
   "metadata": {},
   "outputs": [],
   "source": [
    "sns.boxplot(x=data['Crime Level in the City of Employement'], y=data[\"Total Yearly Income [EUR]\"], data=data, palette=\"Set1\")\n",
    "\n"
   ]
  },
  {
   "cell_type": "code",
   "execution_count": null,
   "metadata": {},
   "outputs": [],
   "source": [
    "sns.boxplot(x = data['Crime Level in the City of Employement']==0,y=data[\"Total Yearly Income [EUR]\"])"
   ]
  },
  {
   "cell_type": "code",
   "execution_count": null,
   "metadata": {},
   "outputs": [],
   "source": [
    "sns.boxplot(x=data['Gender'], y=data[\"Total Yearly Income [EUR]\"], data=data, palette=\"Set1\")\n"
   ]
  },
  {
   "cell_type": "code",
   "execution_count": null,
   "metadata": {},
   "outputs": [],
   "source": []
  },
  {
   "cell_type": "code",
   "execution_count": null,
   "metadata": {},
   "outputs": [],
   "source": [
    "data.head()"
   ]
  },
  {
   "cell_type": "code",
   "execution_count": 11,
   "metadata": {},
   "outputs": [],
   "source": [
    "cats = ['Year of Record', 'Housing Situation','Country', 'Size of City',\n",
    "        'Crime Level in the City of Employement','Work Experience in Current Job [years]']\n",
    "cons = ['Satisfation with employer','Gender','Age',\n",
    "       'University Degree','Body Height [cm]','Profession']\n",
    "data['Work Experience in Current Job [years]'] = data['Work Experience in Current Job [years]'].astype(str)"
   ]
  },
  {
   "cell_type": "code",
   "execution_count": 12,
   "metadata": {},
   "outputs": [
    {
     "data": {
      "text/plain": [
       "['Country_Satisfation with employer',\n",
       " 'Work Experience in Current Job [years]_Body Height [cm]',\n",
       " 'Yearly Income in addition to Salary (e.g. Rental Income)',\n",
       " 'Year of Record_Profession',\n",
       " 'Housing Situation_Body Height [cm]',\n",
       " 'Housing Situation',\n",
       " 'Country_Gender',\n",
       " 'Country_Profession',\n",
       " 'Country_FE_FULL',\n",
       " 'Size of City_Profession',\n",
       " 'Housing Situation_Satisfation with employer',\n",
       " 'Size of City_FE_FULLSize of City_FE_FULL',\n",
       " 'Size of City',\n",
       " 'Housing Situation_FE_FULLHousing Situation_FE_FULL',\n",
       " 'Work Experience in Current Job [years]_Satisfation with employer',\n",
       " 'Crime Level in the City of Employement_Satisfation with employer',\n",
       " 'Housing Situation_Profession',\n",
       " 'Year of Record_Age',\n",
       " 'Year of Record_FE_FULLYear of Record_FE_FULL',\n",
       " 'Size of City_Body Height [cm]',\n",
       " 'Size of City_FE_FULL',\n",
       " 'Size of City_Gender',\n",
       " 'Body Height [cm]',\n",
       " 'Year of Record_FE_FULL',\n",
       " 'BigCity',\n",
       " 'Satisfation with employer',\n",
       " 'Crime Level in the City of Employement_Body Height [cm]',\n",
       " 'Year of Record_Body Height [cm]',\n",
       " 'Country_University Degree',\n",
       " 'Size of City_Age',\n",
       " 'Work Experience in Current Job [years]_FE_FULLWork Experience in Current Job [years]_FE_FULL',\n",
       " 'Age',\n",
       " 'Work Experience in Current Job [years]_Age',\n",
       " 'Profession',\n",
       " 'Housing Situation_Gender',\n",
       " 'Year of Record_University Degree',\n",
       " 'Crime Level in the City of Employement_FE_FULL',\n",
       " 'Work Experience in Current Job [years]',\n",
       " 'Year of Record_Gender',\n",
       " 'SmallCity',\n",
       " 'Country_Body Height [cm]',\n",
       " 'Crime Level in the City of Employement_Gender',\n",
       " 'Year of Record',\n",
       " 'Gender',\n",
       " 'Wears Glasses',\n",
       " 'Year of Record_Satisfation with employer',\n",
       " 'Country_FE_FULLCountry_FE_FULL',\n",
       " 'Size of City_University Degree',\n",
       " 'Crime Level in the City of Employement_FE_FULLCrime Level in the City of Employement_FE_FULL',\n",
       " 'Crime Level in the City of Employement_Age',\n",
       " 'Housing Situation_Age',\n",
       " 'Housing Situation_University Degree',\n",
       " 'Work Experience in Current Job [years]_University Degree',\n",
       " 'Work Experience in Current Job [years]_Profession',\n",
       " 'Country_Age',\n",
       " 'Crime Level in the City of Employement_University Degree',\n",
       " 'Crime Level in the City of Employement',\n",
       " 'Size of City_Satisfation with employer',\n",
       " 'Crime Level in the City of Employement_Profession',\n",
       " 'Housing Situation_FE_FULL',\n",
       " 'Hair Color',\n",
       " 'Work Experience in Current Job [years]_FE_FULL',\n",
       " 'Country',\n",
       " 'Work Experience in Current Job [years]_Gender',\n",
       " 'University Degree']"
      ]
     },
     "execution_count": 12,
     "metadata": {},
     "output_type": "execute_result"
    }
   ],
   "source": [
    "#This is the inspiration I got from the best code. \n",
    "#I added and constructed mean features, cross mean features and Category Characteristics\n",
    "\n",
    "def create_feature(df,cats,cons,normalize=True):\n",
    "    for cat in cats:\n",
    "        value = df[cat].value_counts(dropna=False, normalize=normalize).to_dict()\n",
    "        num = cat + '_FE_FULL'\n",
    "        df[num + num] = df[cat].map(value)\n",
    "        #构造均值特征mean features\n",
    "        df[num] = df[cat].map( dict(df.iloc[:sp].groupby(cat).mean()['Total Yearly Income [EUR]']/10000))\n",
    "        df[num] = df[num].fillna(df[num].mean())\n",
    "        df[num] = df[num].astype('float32')\n",
    "        for con in cons:\n",
    "            new_col = cat +'_'+ con\n",
    "            df[new_col] = df[cat].astype(str)+'_'+df[con].astype(str)\n",
    "            temp_df = df[new_col]\n",
    "            fq_encode = temp_df.value_counts(normalize=True).to_dict()\n",
    "            #构造交叉均值特征cross mean features\n",
    "            df[new_col] = df[new_col].map( dict(df.iloc[:sp+1].groupby( \\\n",
    "                               new_col).mean()['Total Yearly Income [EUR]']/10000))\n",
    "            df[new_col] = df[new_col].fillna(df[new_col].mean())\n",
    "    return df\n",
    "\n",
    "data = create_feature(data,cats,cons)\n",
    "data['Work Experience in Current Job [years]'] = data['Work Experience in Current Job [years]' \\\n",
    "                                                     ].replace('#NUM!', data.iloc[:, -1].mean()).astype(float)\n",
    "\n",
    "#构造类别特征 Category Characteristics\n",
    "for col in data.dtypes[data.dtypes == 'object'].index.tolist():\n",
    "    feat_le = LabelEncoder()\n",
    "    feat_le.fit(data[col].unique().astype(str))\n",
    "    data[col] = feat_le.transform(data[col].astype(str))\n",
    "\n",
    "del_col = set(['Total Yearly Income [EUR]','Instance'])\n",
    "features_col =  list(set(data) - del_col)\n",
    "features_col"
   ]
  },
  {
   "cell_type": "code",
   "execution_count": null,
   "metadata": {},
   "outputs": [],
   "source": [
    "data.shape"
   ]
  },
  {
   "cell_type": "code",
   "execution_count": 13,
   "metadata": {},
   "outputs": [
    {
     "name": "stderr",
     "output_type": "stream",
     "text": [
      "/Users/BarryFitzpatrick/anaconda3/lib/python3.7/site-packages/lightgbm/engine.py:148: UserWarning: Found `num_iterations` in params. Will use it instead of argument\n",
      "  warnings.warn(\"Found `{}` in params. Will use it instead of argument\".format(alias))\n"
     ]
    },
    {
     "name": "stdout",
     "output_type": "stream",
     "text": [
      "[100]\tvalid_0's l1: 47156.8\n",
      "[200]\tvalid_0's l1: 32138.2\n",
      "[300]\tvalid_0's l1: 23658.5\n",
      "[400]\tvalid_0's l1: 18782.2\n",
      "[500]\tvalid_0's l1: 15851.5\n",
      "[600]\tvalid_0's l1: 14123.6\n",
      "[700]\tvalid_0's l1: 13019.4\n",
      "[800]\tvalid_0's l1: 12263.8\n",
      "[900]\tvalid_0's l1: 11734.5\n",
      "[1000]\tvalid_0's l1: 11376.6\n",
      "[1100]\tvalid_0's l1: 11138.9\n",
      "[1200]\tvalid_0's l1: 10944\n",
      "[1300]\tvalid_0's l1: 10788.5\n",
      "[1400]\tvalid_0's l1: 10664.1\n",
      "[1500]\tvalid_0's l1: 10556.7\n",
      "[1600]\tvalid_0's l1: 10463.4\n",
      "[1700]\tvalid_0's l1: 10372.5\n",
      "[1800]\tvalid_0's l1: 10296.1\n",
      "[1900]\tvalid_0's l1: 10224.1\n",
      "[2000]\tvalid_0's l1: 10158.4\n",
      "[2100]\tvalid_0's l1: 10100.2\n",
      "[2200]\tvalid_0's l1: 10045.4\n",
      "[2300]\tvalid_0's l1: 10000\n",
      "[2400]\tvalid_0's l1: 9952.5\n",
      "[2500]\tvalid_0's l1: 9909.16\n",
      "[2600]\tvalid_0's l1: 9862.52\n",
      "[2700]\tvalid_0's l1: 9825.64\n",
      "[2800]\tvalid_0's l1: 9789.11\n",
      "[2900]\tvalid_0's l1: 9757.76\n",
      "[3000]\tvalid_0's l1: 9727.14\n",
      "[3100]\tvalid_0's l1: 9701.36\n",
      "[3200]\tvalid_0's l1: 9672.18\n",
      "[3300]\tvalid_0's l1: 9645.74\n",
      "[3400]\tvalid_0's l1: 9617.69\n",
      "[3500]\tvalid_0's l1: 9591.57\n",
      "[3600]\tvalid_0's l1: 9568.87\n",
      "[3700]\tvalid_0's l1: 9546.29\n",
      "[3800]\tvalid_0's l1: 9521.23\n",
      "[3900]\tvalid_0's l1: 9499.46\n",
      "[4000]\tvalid_0's l1: 9475.37\n",
      "[4100]\tvalid_0's l1: 9456.64\n",
      "[4200]\tvalid_0's l1: 9438.88\n",
      "[4300]\tvalid_0's l1: 9421.67\n",
      "[4400]\tvalid_0's l1: 9403.81\n",
      "[4500]\tvalid_0's l1: 9388.56\n",
      "[4600]\tvalid_0's l1: 9370.74\n",
      "[4700]\tvalid_0's l1: 9358.2\n",
      "[4800]\tvalid_0's l1: 9343.15\n",
      "[4900]\tvalid_0's l1: 9327.09\n",
      "[5000]\tvalid_0's l1: 9312.9\n",
      "[5100]\tvalid_0's l1: 9299.34\n",
      "[5200]\tvalid_0's l1: 9287.47\n",
      "[5300]\tvalid_0's l1: 9274.04\n",
      "[5400]\tvalid_0's l1: 9261.42\n",
      "[5500]\tvalid_0's l1: 9250.19\n",
      "[5600]\tvalid_0's l1: 9237.4\n",
      "[5700]\tvalid_0's l1: 9226.5\n",
      "[5800]\tvalid_0's l1: 9215.96\n",
      "[5900]\tvalid_0's l1: 9203.81\n",
      "[6000]\tvalid_0's l1: 9192.53\n",
      "[6100]\tvalid_0's l1: 9179.42\n",
      "[6200]\tvalid_0's l1: 9166.4\n",
      "[6300]\tvalid_0's l1: 9157.14\n",
      "[6400]\tvalid_0's l1: 9146.52\n",
      "[6500]\tvalid_0's l1: 9136.34\n",
      "[6600]\tvalid_0's l1: 9125.28\n",
      "[6700]\tvalid_0's l1: 9114.94\n",
      "[6800]\tvalid_0's l1: 9106.11\n",
      "[6900]\tvalid_0's l1: 9095.58\n",
      "[7000]\tvalid_0's l1: 9086.32\n",
      "[7100]\tvalid_0's l1: 9076.41\n",
      "[7200]\tvalid_0's l1: 9065.91\n",
      "[7300]\tvalid_0's l1: 9054.67\n",
      "[7400]\tvalid_0's l1: 9046.2\n",
      "[7500]\tvalid_0's l1: 9035.65\n",
      "[7600]\tvalid_0's l1: 9027.15\n",
      "[7700]\tvalid_0's l1: 9019.33\n",
      "[7800]\tvalid_0's l1: 9010.87\n",
      "[7900]\tvalid_0's l1: 9002.29\n",
      "[8000]\tvalid_0's l1: 8993.5\n",
      "[8100]\tvalid_0's l1: 8984.75\n",
      "[8200]\tvalid_0's l1: 8976.5\n",
      "[8300]\tvalid_0's l1: 8966.45\n",
      "[8400]\tvalid_0's l1: 8958.21\n",
      "[8500]\tvalid_0's l1: 8951.04\n",
      "[8600]\tvalid_0's l1: 8944.39\n",
      "[8700]\tvalid_0's l1: 8937.66\n",
      "[8800]\tvalid_0's l1: 8930.51\n",
      "[8900]\tvalid_0's l1: 8924.23\n",
      "[9000]\tvalid_0's l1: 8918.27\n",
      "[9100]\tvalid_0's l1: 8912.65\n",
      "[9200]\tvalid_0's l1: 8905.24\n",
      "[9300]\tvalid_0's l1: 8898.9\n",
      "[9400]\tvalid_0's l1: 8892.36\n",
      "[9500]\tvalid_0's l1: 8887.83\n",
      "[9600]\tvalid_0's l1: 8881.3\n",
      "[9700]\tvalid_0's l1: 8874.52\n",
      "[9800]\tvalid_0's l1: 8868.86\n",
      "[9900]\tvalid_0's l1: 8862.55\n",
      "[10000]\tvalid_0's l1: 8856.65\n",
      "[10100]\tvalid_0's l1: 8852.41\n",
      "[10200]\tvalid_0's l1: 8846.04\n",
      "[10300]\tvalid_0's l1: 8840.86\n",
      "[10400]\tvalid_0's l1: 8834.69\n",
      "[10500]\tvalid_0's l1: 8829.93\n",
      "[10600]\tvalid_0's l1: 8826.03\n",
      "[10700]\tvalid_0's l1: 8820.33\n",
      "[10800]\tvalid_0's l1: 8816.38\n",
      "[10900]\tvalid_0's l1: 8810.26\n",
      "[11000]\tvalid_0's l1: 8801.04\n",
      "[11100]\tvalid_0's l1: 8797.71\n",
      "[11200]\tvalid_0's l1: 8794.09\n",
      "[11300]\tvalid_0's l1: 8789.94\n",
      "[11400]\tvalid_0's l1: 8785.94\n",
      "[11500]\tvalid_0's l1: 8781.41\n",
      "[11600]\tvalid_0's l1: 8779.1\n",
      "[11700]\tvalid_0's l1: 8772.73\n",
      "[11800]\tvalid_0's l1: 8769.6\n",
      "[11900]\tvalid_0's l1: 8765.7\n",
      "[12000]\tvalid_0's l1: 8763.87\n",
      "[12100]\tvalid_0's l1: 8760.47\n",
      "[12200]\tvalid_0's l1: 8753.19\n",
      "[12300]\tvalid_0's l1: 8747.91\n",
      "[12400]\tvalid_0's l1: 8742.06\n",
      "[12500]\tvalid_0's l1: 8739.04\n",
      "[12600]\tvalid_0's l1: 8736.45\n",
      "[12700]\tvalid_0's l1: 8732.59\n",
      "[12800]\tvalid_0's l1: 8727.28\n",
      "[12900]\tvalid_0's l1: 8723.24\n",
      "[13000]\tvalid_0's l1: 8720.23\n",
      "[13100]\tvalid_0's l1: 8717.48\n",
      "[13200]\tvalid_0's l1: 8712.98\n",
      "[13300]\tvalid_0's l1: 8707.28\n",
      "[13400]\tvalid_0's l1: 8704.32\n",
      "[13500]\tvalid_0's l1: 8698.77\n",
      "[13600]\tvalid_0's l1: 8694.2\n",
      "[13700]\tvalid_0's l1: 8687.45\n",
      "[13800]\tvalid_0's l1: 8683.64\n",
      "[13900]\tvalid_0's l1: 8679.82\n",
      "[14000]\tvalid_0's l1: 8675.93\n",
      "[14100]\tvalid_0's l1: 8672.37\n",
      "[14200]\tvalid_0's l1: 8669.58\n",
      "[14300]\tvalid_0's l1: 8665.16\n",
      "[14400]\tvalid_0's l1: 8661.98\n",
      "[14500]\tvalid_0's l1: 8658.44\n",
      "[14600]\tvalid_0's l1: 8654\n",
      "[14700]\tvalid_0's l1: 8650.21\n",
      "[14800]\tvalid_0's l1: 8645.73\n",
      "[14900]\tvalid_0's l1: 8641.95\n",
      "[15000]\tvalid_0's l1: 8638.78\n",
      "[15100]\tvalid_0's l1: 8636.23\n",
      "[15200]\tvalid_0's l1: 8633.43\n",
      "[15300]\tvalid_0's l1: 8631.32\n",
      "[15400]\tvalid_0's l1: 8629.99\n",
      "[15500]\tvalid_0's l1: 8626.28\n",
      "[15600]\tvalid_0's l1: 8624.74\n",
      "[15700]\tvalid_0's l1: 8619.86\n",
      "[15800]\tvalid_0's l1: 8618.44\n",
      "[15900]\tvalid_0's l1: 8615.25\n",
      "[16000]\tvalid_0's l1: 8612.91\n",
      "[16100]\tvalid_0's l1: 8608.75\n",
      "[16200]\tvalid_0's l1: 8605.49\n",
      "[16300]\tvalid_0's l1: 8603.17\n",
      "[16400]\tvalid_0's l1: 8600.48\n",
      "[16500]\tvalid_0's l1: 8598.04\n",
      "[16600]\tvalid_0's l1: 8595.87\n",
      "[16700]\tvalid_0's l1: 8593.07\n",
      "[16800]\tvalid_0's l1: 8590.16\n",
      "[16900]\tvalid_0's l1: 8588.11\n",
      "[17000]\tvalid_0's l1: 8585.96\n",
      "[17100]\tvalid_0's l1: 8582.75\n",
      "[17200]\tvalid_0's l1: 8579.72\n",
      "[17300]\tvalid_0's l1: 8576.26\n",
      "[17400]\tvalid_0's l1: 8573.28\n",
      "[17500]\tvalid_0's l1: 8571.58\n",
      "[17600]\tvalid_0's l1: 8568.03\n",
      "[17700]\tvalid_0's l1: 8565.1\n",
      "[17800]\tvalid_0's l1: 8562.65\n",
      "[17900]\tvalid_0's l1: 8559.95\n",
      "[18000]\tvalid_0's l1: 8555.16\n",
      "[18100]\tvalid_0's l1: 8551.86\n",
      "[18200]\tvalid_0's l1: 8549.57\n",
      "[18300]\tvalid_0's l1: 8547.54\n",
      "[18400]\tvalid_0's l1: 8542.84\n",
      "[18500]\tvalid_0's l1: 8541.24\n",
      "[18600]\tvalid_0's l1: 8537.96\n",
      "[18700]\tvalid_0's l1: 8535.36\n",
      "[18800]\tvalid_0's l1: 8532.02\n",
      "[18900]\tvalid_0's l1: 8529.23\n",
      "[19000]\tvalid_0's l1: 8525.47\n",
      "[19100]\tvalid_0's l1: 8522.86\n",
      "[19200]\tvalid_0's l1: 8520.65\n",
      "[19300]\tvalid_0's l1: 8518.47\n",
      "[19400]\tvalid_0's l1: 8516.36\n",
      "[19500]\tvalid_0's l1: 8513.14\n",
      "[19600]\tvalid_0's l1: 8511.51\n",
      "[19700]\tvalid_0's l1: 8510.01\n",
      "[19800]\tvalid_0's l1: 8507.66\n",
      "[19900]\tvalid_0's l1: 8505.92\n",
      "[20000]\tvalid_0's l1: 8505.18\n"
     ]
    }
   ],
   "source": [
    "from sklearn.ensemble import RandomForestRegressor\n",
    "\n",
    "param = {'num_iterations':20000, \n",
    "         'max_depth': 20, \n",
    "         'feature_fraction':0.85,\n",
    "         'objective':'regression', \n",
    "         \"verbosity\": -1,\n",
    "         'metric': 'mae',\n",
    "         'bagging_fraction': 0.8, \n",
    "         'learning_rate': 0.005,}\n",
    "X_train,X_test  = data[features_col].iloc[:1048573],data[features_col].iloc[1048574:]\n",
    "Y_train = data['Total Yearly Income [EUR]'].iloc[:1048573]\n",
    "x_train,x_val,y_train,y_val = X_train.iloc[sp+1: ,:],  X_train.iloc[:sp,:],  \\\n",
    "                    Y_train.iloc[sp+1: ],  Y_train.iloc[:sp ]\n",
    "train_data = lgb.Dataset(x_train, label=y_train, feature_name='auto')#categorical_feature=cat\n",
    "val_data = lgb.Dataset(x_val, label=y_val, feature_name='auto')\n",
    "\n",
    "bst = lgb.train(param, train_data, 20000, verbose_eval = 100, valid_sets=[val_data])"
   ]
  },
  {
   "cell_type": "code",
   "execution_count": null,
   "metadata": {},
   "outputs": [],
   "source": [
    "from sklearn.metrics import mean_absolute_error\n",
    "predict = bst.predict(x_val)\n",
    "val_mae = mean_absolute_error(y_val,predict)\n",
    "val_mae"
   ]
  },
  {
   "cell_type": "code",
   "execution_count": null,
   "metadata": {},
   "outputs": [],
   "source": [
    "#生成结果\n",
    "#rfr.fit(X_train, Y_train)\n",
    "predict = bst.predict(X_test)\n",
    "result=pd.DataFrame([range(1,1+len(predict)), predict]).T\n",
    "result.columns = ['Instance', 'Total Yearly Income [EUR]']\n",
    "result.to_csv(\"lgb7.csv\",index=False)\n",
    "result.head()"
   ]
  },
  {
   "cell_type": "code",
   "execution_count": null,
   "metadata": {},
   "outputs": [],
   "source": []
  }
 ],
 "metadata": {
  "kernelspec": {
   "display_name": "Python 3",
   "language": "python",
   "name": "python3"
  },
  "language_info": {
   "codemirror_mode": {
    "name": "ipython",
    "version": 3
   },
   "file_extension": ".py",
   "mimetype": "text/x-python",
   "name": "python",
   "nbconvert_exporter": "python",
   "pygments_lexer": "ipython3",
   "version": "3.7.0"
  }
 },
 "nbformat": 4,
 "nbformat_minor": 2
}
